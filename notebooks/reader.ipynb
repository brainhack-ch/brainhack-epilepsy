{
 "cells": [
  {
   "cell_type": "code",
   "execution_count": 3,
   "metadata": {},
   "outputs": [],
   "source": [
    "import os\n",
    "import mne\n",
    "import pycartool.io\n",
    "%matplotlib qt"
   ]
  },
  {
   "cell_type": "markdown",
   "metadata": {},
   "source": [
    "## Read EEG data"
   ]
  },
  {
   "cell_type": "code",
   "execution_count": 5,
   "metadata": {},
   "outputs": [
    {
     "name": "stdout",
     "output_type": "stream",
     "text": [
      "[sef.read_sef] INFO: Cannot read recording date from file: year 0 is out of range\n",
      "Creating RawArray with float64 data, n_channels=16, n_times=15019520\n",
      "    Range : 0 ... 15019519 =      0.000 ...  3754.880 secs\n",
      "Ready.\n"
     ]
    },
    {
     "name": "stdout",
     "output_type": "stream",
     "text": [
      "Channels marked as bad:\n",
      "none\n"
     ]
    }
   ],
   "source": [
    "folder = fr'E:\\switchdrive\\Brainhack\\KMR1\\d3'\n",
    "sef_file = 'KMR1_d3_Raw_DS.Avg_ref.sef'\n",
    "sef_path = os.path.join(folder, sef_file)\n",
    "raw = pycartool.io.read_sef(sef_path)\n",
    "raw.plot(scalings='auto');"
   ]
  },
  {
   "cell_type": "markdown",
   "metadata": {},
   "source": [
    "## Read events"
   ]
  },
  {
   "cell_type": "markdown",
   "metadata": {},
   "source": [
    "### Bads"
   ]
  },
  {
   "cell_type": "code",
   "execution_count": 41,
   "metadata": {},
   "outputs": [],
   "source": [
    "import pandas as pd\n",
    "\n",
    "bad_file = 'bad_epoch_v4.mrk'\n",
    "bad_path = os.path.join(folder, bad_file)\n",
    "\n",
    "df = pd.read_csv(bad_path, sep=\"\\t\", skiprows=1, names=['start', 'stop', 'label'])\n",
    "df['start_time'] = df['start'] / raw.info['sfreq']\n",
    "df['stop_time'] = df['stop'] / raw.info['sfreq']\n",
    "df['duration'] = df['stop_time'] - df['start_time']\n",
    "bads_annotations = mne.Annotations(df['start_time'], df['duration'], df['label'])"
   ]
  },
  {
   "cell_type": "markdown",
   "metadata": {},
   "source": [
    "### Epileptic events"
   ]
  },
  {
   "cell_type": "code",
   "execution_count": 42,
   "metadata": {},
   "outputs": [],
   "source": [
    "epileptic_events_file = 'Epileptic_events.mrk'\n",
    "epileptic_events_path = os.path.join(folder, epileptic_events_file)\n",
    "\n",
    "df = pd.read_csv(epileptic_events_path, sep=\"\\t\", skiprows=1, names=['start', 'stop', 'label'])\n",
    "df['start_time'] = df['start'] / raw.info['sfreq']\n",
    "df['stop_time'] = df['stop'] / raw.info['sfreq']\n",
    "df['duration'] = df['stop_time'] - df['start_time']\n",
    "\n",
    "events = list()\n",
    "for r, row in df.iterrows():\n",
    "    label = row['label']\n",
    "    if label.lower() == 'hpd_start':\n",
    "        start = row['start_time']\n",
    "        for r_, row_ in df.iloc[r:].iterrows():\n",
    "            label_ = row_['label']\n",
    "            if label_.lower() == 'hpd_end':\n",
    "                stop = row_['start_time']\n",
    "                event = dict()\n",
    "                event['label'] = 'hpd'\n",
    "                event['start'] = start\n",
    "                event['stop'] = stop\n",
    "                event['duration'] = stop - start\n",
    "                events.append(event)\n",
    "                break\n",
    "\n",
    "df_annot = pd.DataFrame(events)\n",
    "epileptic_annotations = mne.Annotations(df_annot['start'], df_annot['duration'], df_annot['label'])\n"
   ]
  },
  {
   "cell_type": "code",
   "execution_count": 49,
   "metadata": {},
   "outputs": [],
   "source": [
    "background_events_file = 'mrk_bck.mrk'\n",
    "background_events_path = os.path.join(folder, background_events_file)\n",
    "\n",
    "df = pd.read_csv(background_events_path, sep=\"\\t\", skiprows=1, names=['start', 'stop', 'label'])\n",
    "df['start_time'] = df['start'] / raw.info['sfreq'] - 0.5\n",
    "df['duration'] = 1 # 1sec of background around marker\n",
    "background_annotations = mne.Annotations(df['start_time'], df['duration'], 'background')"
   ]
  },
  {
   "cell_type": "code",
   "execution_count": 50,
   "metadata": {},
   "outputs": [
    {
     "data": {
      "text/html": [
       "<table class=\"table table-hover table-striped table-sm table-responsive small\">\n",
       "    <tr>\n",
       "        <th>Measurement date</th>\n",
       "        \n",
       "        <td>Unknown</td>\n",
       "        \n",
       "    </tr>\n",
       "    <tr>\n",
       "        <th>Experimenter</th>\n",
       "        \n",
       "        <td>Unknown</td>\n",
       "        \n",
       "    </tr>\n",
       "        <th>Participant</th>\n",
       "        \n",
       "        <td>Unknown</td>\n",
       "        \n",
       "    </tr>\n",
       "    <tr>\n",
       "        <th>Digitized points</th>\n",
       "        \n",
       "        <td>Not available</td>\n",
       "        \n",
       "    </tr>\n",
       "    <tr>\n",
       "        <th>Good channels</th>\n",
       "        <td>16 EEG</td>\n",
       "    </tr>\n",
       "    <tr>\n",
       "        <th>Bad channels</th>\n",
       "        <td>None</td>\n",
       "    </tr>\n",
       "    <tr>\n",
       "        <th>EOG channels</th>\n",
       "        <td>Not available</td>\n",
       "    </tr>\n",
       "    <tr>\n",
       "        <th>ECG channels</th>\n",
       "        <td>Not available</td>\n",
       "    \n",
       "    <tr>\n",
       "        <th>Sampling frequency</th>\n",
       "        <td>4000.00 Hz</td>\n",
       "    </tr>\n",
       "    \n",
       "    \n",
       "    <tr>\n",
       "        <th>Highpass</th>\n",
       "        <td>0.00 Hz</td>\n",
       "    </tr>\n",
       "    \n",
       "    \n",
       "    <tr>\n",
       "        <th>Lowpass</th>\n",
       "        <td>2000.00 Hz</td>\n",
       "    </tr>\n",
       "    \n",
       "    \n",
       "    \n",
       "    <tr>\n",
       "        <th>Duration</th>\n",
       "        <td>01:02:35 (HH:MM:SS)</td>\n",
       "    </tr>\n",
       "</table>"
      ],
      "text/plain": [
       "<RawArray | 16 x 15019520 (3754.9 s), ~1.79 GB, data loaded>"
      ]
     },
     "execution_count": 50,
     "metadata": {},
     "output_type": "execute_result"
    }
   ],
   "source": [
    "annotations = epileptic_annotations + bads_annotations + background_annotations\n",
    "raw.set_annotations(annotations) "
   ]
  },
  {
   "cell_type": "code",
   "execution_count": 51,
   "metadata": {},
   "outputs": [
    {
     "data": {
      "text/plain": [
       "<mne_qt_browser._pg_figure.MNEQtBrowser at 0x234a2692940>"
      ]
     },
     "execution_count": 51,
     "metadata": {},
     "output_type": "execute_result"
    },
    {
     "name": "stdout",
     "output_type": "stream",
     "text": [
      "Channels marked as bad:\n",
      "none\n"
     ]
    }
   ],
   "source": [
    "raw.plot(scalings='auto')"
   ]
  },
  {
   "cell_type": "code",
   "execution_count": null,
   "metadata": {},
   "outputs": [],
   "source": []
  }
 ],
 "metadata": {
  "kernelspec": {
   "display_name": "Python 3.9.15 ('bh_epilepsy')",
   "language": "python",
   "name": "python3"
  },
  "language_info": {
   "codemirror_mode": {
    "name": "ipython",
    "version": 3
   },
   "file_extension": ".py",
   "mimetype": "text/x-python",
   "name": "python",
   "nbconvert_exporter": "python",
   "pygments_lexer": "ipython3",
   "version": "3.9.15"
  },
  "orig_nbformat": 4,
  "vscode": {
   "interpreter": {
    "hash": "cbce18f089dd3a859c694fc9cb3e5910840ad7a47cd5eed605806d0498c40634"
   }
  }
 },
 "nbformat": 4,
 "nbformat_minor": 2
}
